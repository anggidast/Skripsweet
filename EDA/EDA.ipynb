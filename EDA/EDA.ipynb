{
 "cells": [
  {
   "cell_type": "code",
   "execution_count": 1,
   "metadata": {},
   "outputs": [],
   "source": [
    "import seaborn as sns\n",
    "import pandas as pd\n",
    "import numpy as np"
   ]
  },
  {
   "cell_type": "code",
   "execution_count": 51,
   "metadata": {},
   "outputs": [],
   "source": [
    "df = pd.read_excel('data anggi.xlsx')"
   ]
  },
  {
   "cell_type": "code",
   "execution_count": 58,
   "metadata": {},
   "outputs": [
    {
     "data": {
      "text/html": [
       "<div>\n",
       "<style scoped>\n",
       "    .dataframe tbody tr th:only-of-type {\n",
       "        vertical-align: middle;\n",
       "    }\n",
       "\n",
       "    .dataframe tbody tr th {\n",
       "        vertical-align: top;\n",
       "    }\n",
       "\n",
       "    .dataframe thead th {\n",
       "        text-align: right;\n",
       "    }\n",
       "</style>\n",
       "<table border=\"1\" class=\"dataframe\">\n",
       "  <thead>\n",
       "    <tr style=\"text-align: right;\">\n",
       "      <th></th>\n",
       "      <th>Unnamed: 0</th>\n",
       "      <th>hardness</th>\n",
       "      <th>tensile</th>\n",
       "      <th>elongation</th>\n",
       "      <th>sg</th>\n",
       "      <th>bursting</th>\n",
       "      <th>cracks</th>\n",
       "      <th>crack</th>\n",
       "      <th>Condition</th>\n",
       "      <th>Total</th>\n",
       "    </tr>\n",
       "  </thead>\n",
       "  <tbody>\n",
       "    <tr>\n",
       "      <td>0</td>\n",
       "      <td>0</td>\n",
       "      <td>70</td>\n",
       "      <td>130</td>\n",
       "      <td>483</td>\n",
       "      <td>1.25</td>\n",
       "      <td>2.46</td>\n",
       "      <td>No crack</td>\n",
       "      <td>1</td>\n",
       "      <td>No crack</td>\n",
       "      <td>907.0</td>\n",
       "    </tr>\n",
       "    <tr>\n",
       "      <td>1</td>\n",
       "      <td>1</td>\n",
       "      <td>71</td>\n",
       "      <td>119</td>\n",
       "      <td>434</td>\n",
       "      <td>1.28</td>\n",
       "      <td>2.27</td>\n",
       "      <td>No crack</td>\n",
       "      <td>1</td>\n",
       "      <td>Crack</td>\n",
       "      <td>55.0</td>\n",
       "    </tr>\n",
       "  </tbody>\n",
       "</table>\n",
       "</div>"
      ],
      "text/plain": [
       "   Unnamed: 0  hardness  tensile  elongation    sg  bursting    cracks  crack  \\\n",
       "0           0        70      130         483  1.25      2.46  No crack      1   \n",
       "1           1        71      119         434  1.28      2.27  No crack      1   \n",
       "\n",
       "  Condition  Total  \n",
       "0  No crack  907.0  \n",
       "1     Crack   55.0  "
      ]
     },
     "execution_count": 58,
     "metadata": {},
     "output_type": "execute_result"
    }
   ],
   "source": [
    "df = df.head(2)\n",
    "df.head(2)"
   ]
  },
  {
   "cell_type": "code",
   "execution_count": 34,
   "metadata": {},
   "outputs": [
    {
     "data": {
      "text/plain": [
       "<matplotlib.axes._subplots.AxesSubplot at 0x1218d60b308>"
      ]
     },
     "execution_count": 34,
     "metadata": {},
     "output_type": "execute_result"
    },
    {
     "data": {
      "image/png": "[encoded data removed]",
      "text/plain": [
       "<Figure size 432x288 with 1 Axes>"
      ]
     },
     "metadata": {
      "needs_background": "light"
     },
     "output_type": "display_data"
    }
   ],
   "source": [
    "sns.distplot(df.bursting)"
   ]
  },
  {
   "cell_type": "code",
   "execution_count": 23,
   "metadata": {},
   "outputs": [],
   "source": [
    "from matplotlib import pyplot as plt"
   ]
  },
  {
   "cell_type": "code",
   "execution_count": 29,
   "metadata": {},
   "outputs": [
    {
     "ename": "TypeError",
     "evalue": "scatter() missing 1 required positional argument: 'y'",
     "output_type": "error",
     "traceback": [
      "\u001b[1;31m---------------------------------------------------------------------------\u001b[0m",
      "\u001b[1;31mTypeError\u001b[0m                                 Traceback (most recent call last)",
      "\u001b[1;32m<ipython-input-29-80e928381d2d>\u001b[0m in \u001b[0;36m<module>\u001b[1;34m\u001b[0m\n\u001b[0;32m      1\u001b[0m \u001b[0mplt\u001b[0m\u001b[1;33m.\u001b[0m\u001b[0mfigure\u001b[0m\u001b[1;33m(\u001b[0m\u001b[0mfigsize\u001b[0m\u001b[1;33m=\u001b[0m\u001b[1;33m(\u001b[0m\u001b[1;36m20\u001b[0m\u001b[1;33m,\u001b[0m\u001b[1;36m8\u001b[0m\u001b[1;33m)\u001b[0m\u001b[1;33m)\u001b[0m\u001b[1;33m\u001b[0m\u001b[1;33m\u001b[0m\u001b[0m\n\u001b[1;32m----> 2\u001b[1;33m \u001b[0mplt\u001b[0m\u001b[1;33m.\u001b[0m\u001b[0mscatter\u001b[0m\u001b[1;33m(\u001b[0m\u001b[0mdf\u001b[0m\u001b[1;33m.\u001b[0m\u001b[0mhardness\u001b[0m\u001b[1;33m)\u001b[0m\u001b[1;33m\u001b[0m\u001b[1;33m\u001b[0m\u001b[0m\n\u001b[0m\u001b[0;32m      3\u001b[0m \u001b[0mplt\u001b[0m\u001b[1;33m.\u001b[0m\u001b[0mshow\u001b[0m\u001b[1;33m(\u001b[0m\u001b[1;33m)\u001b[0m\u001b[1;33m\u001b[0m\u001b[1;33m\u001b[0m\u001b[0m\n",
      "\u001b[1;31mTypeError\u001b[0m: scatter() missing 1 required positional argument: 'y'"
     ]
    },
    {
     "data": {
      "text/plain": [
       "<Figure size 1440x576 with 0 Axes>"
      ]
     },
     "metadata": {},
     "output_type": "display_data"
    }
   ],
   "source": [
    "plt.figure(figsize=(20,8))\n",
    "plt.scatter(df.hardness)\n",
    "plt.show()"
   ]
  },
  {
   "cell_type": "code",
   "execution_count": 37,
   "metadata": {},
   "outputs": [
    {
     "ename": "TypeError",
     "evalue": "bar() missing 1 required positional argument: 'height'",
     "output_type": "error",
     "traceback": [
      "\u001b[1;31m---------------------------------------------------------------------------\u001b[0m",
      "\u001b[1;31mTypeError\u001b[0m                                 Traceback (most recent call last)",
      "\u001b[1;32m<ipython-input-37-c358754c1172>\u001b[0m in \u001b[0;36m<module>\u001b[1;34m\u001b[0m\n\u001b[1;32m----> 1\u001b[1;33m \u001b[0mplt\u001b[0m\u001b[1;33m.\u001b[0m\u001b[0mbar\u001b[0m\u001b[1;33m(\u001b[0m\u001b[0mdf\u001b[0m\u001b[1;33m.\u001b[0m\u001b[0mcrack\u001b[0m\u001b[1;33m)\u001b[0m\u001b[1;33m\u001b[0m\u001b[1;33m\u001b[0m\u001b[0m\n\u001b[0m",
      "\u001b[1;31mTypeError\u001b[0m: bar() missing 1 required positional argument: 'height'"
     ]
    }
   ],
   "source": [
    "plt.bar(df.crack)"
   ]
  },
  {
   "cell_type": "code",
   "execution_count": 38,
   "metadata": {},
   "outputs": [
    {
     "ename": "KeyError",
     "evalue": "'Requested level (No crack) does not match index name (None)'",
     "output_type": "error",
     "traceback": [
      "\u001b[1;31m---------------------------------------------------------------------------\u001b[0m",
      "\u001b[1;31mKeyError\u001b[0m                                  Traceback (most recent call last)",
      "\u001b[1;32m<ipython-input-38-5f07af583ce8>\u001b[0m in \u001b[0;36m<module>\u001b[1;34m\u001b[0m\n\u001b[1;32m----> 1\u001b[1;33m \u001b[0mnocrack\u001b[0m \u001b[1;33m=\u001b[0m \u001b[0mdf\u001b[0m\u001b[1;33m.\u001b[0m\u001b[0mcracks\u001b[0m\u001b[1;33m.\u001b[0m\u001b[0mcount\u001b[0m\u001b[1;33m(\u001b[0m\u001b[1;34m'No crack'\u001b[0m\u001b[1;33m)\u001b[0m\u001b[1;33m\u001b[0m\u001b[1;33m\u001b[0m\u001b[0m\n\u001b[0m",
      "\u001b[1;32m~\\Anaconda3\\lib\\site-packages\\pandas\\core\\series.py\u001b[0m in \u001b[0;36mcount\u001b[1;34m(self, level)\u001b[0m\n\u001b[0;32m   1890\u001b[0m \u001b[1;33m\u001b[0m\u001b[0m\n\u001b[0;32m   1891\u001b[0m         \u001b[1;32mif\u001b[0m \u001b[0misinstance\u001b[0m\u001b[1;33m(\u001b[0m\u001b[0mlevel\u001b[0m\u001b[1;33m,\u001b[0m \u001b[0mstr\u001b[0m\u001b[1;33m)\u001b[0m\u001b[1;33m:\u001b[0m\u001b[1;33m\u001b[0m\u001b[1;33m\u001b[0m\u001b[0m\n\u001b[1;32m-> 1892\u001b[1;33m             \u001b[0mlevel\u001b[0m \u001b[1;33m=\u001b[0m \u001b[0mself\u001b[0m\u001b[1;33m.\u001b[0m\u001b[0mindex\u001b[0m\u001b[1;33m.\u001b[0m\u001b[0m_get_level_number\u001b[0m\u001b[1;33m(\u001b[0m\u001b[0mlevel\u001b[0m\u001b[1;33m)\u001b[0m\u001b[1;33m\u001b[0m\u001b[1;33m\u001b[0m\u001b[0m\n\u001b[0m\u001b[0;32m   1893\u001b[0m \u001b[1;33m\u001b[0m\u001b[0m\n\u001b[0;32m   1894\u001b[0m         \u001b[0mlev\u001b[0m \u001b[1;33m=\u001b[0m \u001b[0mself\u001b[0m\u001b[1;33m.\u001b[0m\u001b[0mindex\u001b[0m\u001b[1;33m.\u001b[0m\u001b[0mlevels\u001b[0m\u001b[1;33m[\u001b[0m\u001b[0mlevel\u001b[0m\u001b[1;33m]\u001b[0m\u001b[1;33m\u001b[0m\u001b[1;33m\u001b[0m\u001b[0m\n",
      "\u001b[1;32m~\\Anaconda3\\lib\\site-packages\\pandas\\core\\indexes\\base.py\u001b[0m in \u001b[0;36m_get_level_number\u001b[1;34m(self, level)\u001b[0m\n\u001b[0;32m   1561\u001b[0m \u001b[1;33m\u001b[0m\u001b[0m\n\u001b[0;32m   1562\u001b[0m     \u001b[1;32mdef\u001b[0m \u001b[0m_get_level_number\u001b[0m\u001b[1;33m(\u001b[0m\u001b[0mself\u001b[0m\u001b[1;33m,\u001b[0m \u001b[0mlevel\u001b[0m\u001b[1;33m)\u001b[0m\u001b[1;33m:\u001b[0m\u001b[1;33m\u001b[0m\u001b[1;33m\u001b[0m\u001b[0m\n\u001b[1;32m-> 1563\u001b[1;33m         \u001b[0mself\u001b[0m\u001b[1;33m.\u001b[0m\u001b[0m_validate_index_level\u001b[0m\u001b[1;33m(\u001b[0m\u001b[0mlevel\u001b[0m\u001b[1;33m)\u001b[0m\u001b[1;33m\u001b[0m\u001b[1;33m\u001b[0m\u001b[0m\n\u001b[0m\u001b[0;32m   1564\u001b[0m         \u001b[1;32mreturn\u001b[0m \u001b[1;36m0\u001b[0m\u001b[1;33m\u001b[0m\u001b[1;33m\u001b[0m\u001b[0m\n\u001b[0;32m   1565\u001b[0m \u001b[1;33m\u001b[0m\u001b[0m\n",
      "\u001b[1;32m~\\Anaconda3\\lib\\site-packages\\pandas\\core\\indexes\\base.py\u001b[0m in \u001b[0;36m_validate_index_level\u001b[1;34m(self, level)\u001b[0m\n\u001b[0;32m   1556\u001b[0m             raise KeyError(\n\u001b[0;32m   1557\u001b[0m                 \"Requested level ({}) does not match index name ({})\".format(\n\u001b[1;32m-> 1558\u001b[1;33m                     \u001b[0mlevel\u001b[0m\u001b[1;33m,\u001b[0m \u001b[0mself\u001b[0m\u001b[1;33m.\u001b[0m\u001b[0mname\u001b[0m\u001b[1;33m\u001b[0m\u001b[1;33m\u001b[0m\u001b[0m\n\u001b[0m\u001b[0;32m   1559\u001b[0m                 )\n\u001b[0;32m   1560\u001b[0m             )\n",
      "\u001b[1;31mKeyError\u001b[0m: 'Requested level (No crack) does not match index name (None)'"
     ]
    }
   ],
   "source": [
    "nocrack = df.cracks.count('No crack')"
   ]
  },
  {
   "cell_type": "code",
   "execution_count": 39,
   "metadata": {},
   "outputs": [
    {
     "data": {
      "text/plain": [
       "array(['No crack', 'No crack', 'Crack', 'No crack', 'No crack',\n",
       "       'No crack', 'No crack', 'No crack', 'No crack', 'No crack',\n",
       "       'No crack', 'No crack', 'No crack', 'No crack', 'No crack',\n",
       "       'No crack', 'No crack', 'No crack', 'No crack', 'No crack',\n",
       "       'No crack', 'No crack', 'No crack', 'No crack', 'No crack',\n",
       "       'No crack', 'No crack', 'No crack', 'No crack', 'No crack',\n",
       "       'No crack', 'No crack', 'No crack', 'Crack', 'No crack',\n",
       "       'No crack', 'No crack', 'No crack', 'No crack', 'No crack',\n",
       "       'No crack', 'No crack', 'No crack', 'No crack', 'No crack',\n",
       "       'No crack', 'No crack', 'No crack', 'No crack', 'No crack',\n",
       "       'No crack', 'No crack', 'No crack', 'No crack', 'No crack',\n",
       "       'No crack', 'No crack', 'No crack', 'No crack', 'No crack',\n",
       "       'No crack', 'No crack', 'No crack', 'No crack', 'Crack',\n",
       "       'No crack', 'Crack', 'No crack', 'Crack', 'No crack', 'No crack',\n",
       "       'Crack', 'No crack', 'No crack', 'No crack', 'No crack',\n",
       "       'No crack', 'Crack', 'No crack', 'No crack', 'No crack',\n",
       "       'No crack', 'No crack', 'No crack', 'No crack', 'No crack',\n",
       "       'No crack', 'No crack', 'No crack', 'No crack', 'No crack',\n",
       "       'No crack', 'No crack', 'No crack', 'No crack', 'No crack',\n",
       "       'No crack', 'No crack', 'No crack', 'No crack', 'No crack',\n",
       "       'No crack', 'Crack', 'No crack', 'No crack', 'Crack', 'No crack',\n",
       "       'No crack', 'No crack', 'No crack', 'No crack', 'No crack',\n",
       "       'No crack', 'No crack', 'No crack', 'No crack', 'No crack',\n",
       "       'No crack', 'No crack', 'No crack', 'No crack', 'No crack',\n",
       "       'No crack', 'No crack', 'No crack', 'No crack', 'No crack',\n",
       "       'No crack', 'No crack', 'No crack', 'No crack', 'No crack',\n",
       "       'No crack', 'No crack', 'No crack', 'No crack', 'No crack',\n",
       "       'No crack', 'No crack', 'No crack', 'No crack', 'Crack',\n",
       "       'No crack', 'No crack', 'No crack', 'No crack', 'No crack',\n",
       "       'No crack', 'No crack', 'No crack', 'Crack', 'Crack', 'No crack',\n",
       "       'No crack', 'No crack', 'No crack', 'Crack', 'No crack', 'Crack',\n",
       "       'No crack', 'No crack', 'No crack', 'No crack', 'No crack',\n",
       "       'Crack', 'No crack', 'No crack', 'No crack', 'No crack',\n",
       "       'No crack', 'No crack', 'No crack', 'No crack', 'No crack',\n",
       "       'No crack', 'No crack', 'No crack', 'No crack', 'No crack',\n",
       "       'No crack', 'Crack', 'No crack', 'No crack', 'No crack',\n",
       "       'No crack', 'No crack', 'No crack', 'No crack', 'No crack',\n",
       "       'No crack', 'No crack', 'No crack', 'No crack', 'No crack',\n",
       "       'No crack', 'No crack', 'Crack', 'No crack', 'No crack',\n",
       "       'No crack', 'Crack', 'No crack', 'No crack', 'Crack', 'No crack',\n",
       "       'No crack', 'No crack', 'No crack', 'No crack', 'No crack',\n",
       "       'No crack', 'No crack', 'No crack', 'No crack', 'No crack',\n",
       "       'No crack', 'No crack', 'No crack', 'No crack', 'No crack',\n",
       "       'No crack', 'No crack', 'No crack', 'No crack', 'No crack',\n",
       "       'No crack', 'No crack', 'No crack', 'Crack', 'No crack',\n",
       "       'No crack', 'No crack', 'No crack', 'No crack', 'No crack',\n",
       "       'No crack', 'No crack', 'No crack', 'No crack', 'No crack',\n",
       "       'No crack', 'No crack', 'No crack', 'Crack', 'No crack',\n",
       "       'No crack', 'No crack', 'Crack', 'No crack', 'No crack',\n",
       "       'No crack', 'No crack', 'No crack', 'No crack', 'No crack',\n",
       "       'No crack', 'No crack', 'No crack', 'No crack', 'No crack',\n",
       "       'No crack', 'No crack', 'No crack', 'Crack', 'No crack',\n",
       "       'No crack', 'Crack', 'No crack', 'No crack', 'No crack',\n",
       "       'No crack', 'Crack', 'No crack', 'No crack', 'No crack',\n",
       "       'No crack', 'No crack', 'No crack', 'No crack', 'No crack',\n",
       "       'No crack', 'No crack', 'No crack', 'No crack', 'No crack',\n",
       "       'No crack', 'Crack', 'No crack', 'No crack', 'No crack',\n",
       "       'No crack', 'No crack', 'No crack', 'No crack', 'No crack',\n",
       "       'No crack', 'No crack', 'No crack', 'No crack', 'Crack',\n",
       "       'No crack', 'No crack', 'No crack', 'No crack', 'No crack',\n",
       "       'No crack', 'No crack', 'No crack', 'No crack', 'No crack',\n",
       "       'No crack', 'No crack', 'No crack', 'No crack', 'No crack',\n",
       "       'No crack', 'No crack', 'No crack', 'No crack', 'No crack',\n",
       "       'No crack', 'No crack', 'No crack', 'No crack', 'No crack',\n",
       "       'No crack', 'Crack', 'No crack', 'No crack', 'No crack',\n",
       "       'No crack', 'No crack', 'Crack', 'No crack', 'No crack',\n",
       "       'No crack', 'No crack', 'No crack', 'No crack', 'Crack', 'Crack',\n",
       "       'No crack', 'No crack', 'No crack', 'No crack', 'No crack',\n",
       "       'No crack', 'No crack', 'No crack', 'No crack', 'No crack',\n",
       "       'No crack', 'No crack', 'No crack', 'No crack', 'No crack',\n",
       "       'No crack', 'No crack', 'No crack', 'No crack', 'No crack',\n",
       "       'No crack', 'No crack', 'No crack', 'No crack', 'Crack',\n",
       "       'No crack', 'No crack', 'No crack', 'No crack', 'No crack',\n",
       "       'No crack', 'No crack', 'No crack', 'No crack', 'No crack',\n",
       "       'Crack', 'No crack', 'No crack', 'No crack', 'No crack',\n",
       "       'No crack', 'No crack', 'No crack', 'No crack', 'No crack',\n",
       "       'No crack', 'No crack', 'No crack', 'No crack', 'No crack',\n",
       "       'No crack', 'No crack', 'No crack', 'No crack', 'No crack',\n",
       "       'No crack', 'No crack', 'No crack', 'No crack', 'No crack',\n",
       "       'No crack', 'Crack', 'No crack', 'No crack', 'No crack',\n",
       "       'No crack', 'No crack', 'No crack', 'No crack', 'No crack',\n",
       "       'No crack', 'No crack', 'No crack', 'No crack', 'No crack',\n",
       "       'No crack', 'No crack', 'No crack', 'No crack', 'No crack',\n",
       "       'No crack', 'No crack', 'No crack', 'No crack', 'No crack',\n",
       "       'No crack', 'No crack', 'No crack', 'Crack', 'No crack',\n",
       "       'No crack', 'No crack', 'Crack', 'No crack', 'No crack',\n",
       "       'No crack', 'No crack', 'No crack', 'No crack', 'No crack',\n",
       "       'No crack', 'No crack', 'No crack', 'No crack', 'No crack',\n",
       "       'No crack', 'No crack', 'No crack', 'No crack', 'No crack',\n",
       "       'No crack', 'No crack', 'No crack', 'No crack', 'No crack',\n",
       "       'No crack', 'No crack', 'No crack', 'No crack', 'No crack',\n",
       "       'No crack', 'No crack', 'No crack', 'No crack', 'No crack',\n",
       "       'No crack', 'No crack', 'No crack', 'No crack', 'Crack',\n",
       "       'No crack', 'No crack', 'No crack', 'No crack', 'No crack',\n",
       "       'No crack', 'Crack', 'No crack', 'No crack', 'No crack',\n",
       "       'No crack', 'No crack', 'No crack', 'No crack', 'No crack',\n",
       "       'Crack', 'No crack', 'No crack', 'No crack', 'No crack',\n",
       "       'No crack', 'No crack', 'No crack', 'Crack', 'No crack',\n",
       "       'No crack', 'No crack', 'No crack', 'No crack', 'No crack',\n",
       "       'No crack', 'No crack', 'No crack', 'No crack', 'No crack',\n",
       "       'No crack', 'Crack', 'No crack', 'No crack', 'No crack',\n",
       "       'No crack', 'No crack', 'No crack', 'No crack', 'No crack',\n",
       "       'No crack', 'No crack', 'No crack', 'No crack', 'No crack',\n",
       "       'No crack', 'No crack', 'No crack', 'No crack', 'No crack',\n",
       "       'No crack', 'No crack', 'No crack', 'No crack', 'No crack',\n",
       "       'No crack', 'No crack', 'No crack', 'No crack', 'No crack',\n",
       "       'No crack', 'No crack', 'No crack', 'No crack', 'No crack',\n",
       "       'No crack', 'No crack', 'No crack', 'No crack', 'No crack',\n",
       "       'No crack', 'No crack', 'No crack', 'No crack', 'No crack',\n",
       "       'No crack', 'No crack', 'No crack', 'No crack', 'No crack',\n",
       "       'No crack', 'No crack', 'No crack', 'No crack', 'No crack',\n",
       "       'No crack', 'No crack', 'No crack', 'No crack', 'No crack',\n",
       "       'No crack', 'No crack', 'No crack', 'No crack', 'No crack',\n",
       "       'No crack', 'No crack', 'No crack', 'No crack', 'No crack',\n",
       "       'No crack', 'No crack', 'No crack', 'No crack', 'No crack',\n",
       "       'No crack', 'No crack', 'No crack', 'No crack', 'No crack',\n",
       "       'No crack', 'No crack', 'No crack', 'No crack', 'No crack',\n",
       "       'No crack', 'No crack', 'No crack', 'No crack', 'No crack',\n",
       "       'No crack', 'No crack', 'No crack', 'No crack', 'No crack',\n",
       "       'No crack', 'No crack', 'No crack', 'No crack', 'No crack',\n",
       "       'No crack', 'No crack', 'No crack', 'No crack', 'No crack',\n",
       "       'No crack', 'No crack', 'No crack', 'No crack', 'No crack',\n",
       "       'No crack', 'No crack', 'No crack', 'No crack', 'No crack',\n",
       "       'No crack', 'No crack', 'No crack', 'Crack', 'No crack',\n",
       "       'No crack', 'No crack', 'No crack', 'No crack', 'No crack',\n",
       "       'No crack', 'No crack', 'No crack', 'No crack', 'No crack',\n",
       "       'No crack', 'No crack', 'No crack', 'No crack', 'No crack',\n",
       "       'No crack', 'No crack', 'No crack', 'No crack', 'No crack',\n",
       "       'No crack', 'No crack', 'No crack', 'No crack', 'No crack',\n",
       "       'No crack', 'No crack', 'No crack', 'Crack', 'No crack',\n",
       "       'No crack', 'No crack', 'No crack', 'No crack', 'No crack',\n",
       "       'No crack', 'No crack', 'No crack', 'No crack', 'No crack',\n",
       "       'No crack', 'No crack', 'No crack', 'Crack', 'No crack', 'Crack',\n",
       "       'No crack', 'No crack', 'No crack', 'No crack', 'No crack',\n",
       "       'No crack', 'No crack', 'No crack', 'No crack', 'No crack',\n",
       "       'No crack', 'No crack', 'No crack', 'No crack', 'No crack',\n",
       "       'No crack', 'No crack', 'No crack', 'No crack', 'Crack',\n",
       "       'No crack', 'No crack', 'No crack', 'No crack', 'No crack',\n",
       "       'No crack', 'No crack', 'No crack', 'No crack', 'No crack',\n",
       "       'No crack', 'No crack', 'Crack', 'No crack', 'No crack',\n",
       "       'No crack', 'No crack', 'No crack', 'No crack', 'No crack',\n",
       "       'No crack', 'No crack', 'No crack', 'No crack', 'No crack',\n",
       "       'No crack', 'No crack', 'No crack', 'No crack', 'No crack',\n",
       "       'No crack', 'No crack', 'No crack', 'No crack', 'No crack',\n",
       "       'No crack', 'No crack', 'No crack', 'No crack', 'No crack',\n",
       "       'No crack', 'No crack', 'No crack', 'No crack', 'No crack',\n",
       "       'No crack', 'No crack', 'No crack', 'No crack', 'No crack',\n",
       "       'No crack', 'No crack', 'No crack', 'No crack', 'Crack',\n",
       "       'No crack', 'No crack', 'No crack', 'No crack', 'No crack',\n",
       "       'No crack', 'No crack', 'No crack', 'No crack', 'No crack',\n",
       "       'No crack', 'No crack', 'No crack', 'No crack', 'No crack',\n",
       "       'No crack', 'No crack', 'No crack', 'No crack', 'No crack',\n",
       "       'No crack', 'No crack', 'No crack', 'No crack', 'No crack',\n",
       "       'No crack', 'No crack', 'No crack', 'No crack', 'No crack',\n",
       "       'No crack', 'No crack', 'No crack', 'No crack', 'No crack',\n",
       "       'No crack', 'No crack', 'No crack', 'No crack', 'No crack',\n",
       "       'No crack', 'No crack', 'No crack', 'Crack', 'No crack', 'Crack',\n",
       "       'No crack', 'No crack', 'No crack', 'No crack', 'No crack',\n",
       "       'No crack', 'No crack', 'No crack', 'No crack', 'No crack',\n",
       "       'No crack', 'No crack', 'No crack', 'No crack', 'No crack',\n",
       "       'No crack', 'No crack', 'No crack', 'No crack', 'No crack',\n",
       "       'No crack', 'No crack', 'Crack', 'No crack', 'No crack',\n",
       "       'No crack', 'No crack', 'No crack', 'No crack', 'Crack',\n",
       "       'No crack', 'No crack', 'No crack', 'No crack', 'No crack',\n",
       "       'No crack', 'No crack', 'No crack', 'No crack', 'No crack',\n",
       "       'No crack', 'No crack', 'No crack', 'No crack', 'No crack',\n",
       "       'No crack', 'No crack', 'No crack', 'No crack', 'No crack',\n",
       "       'No crack', 'No crack', 'No crack', 'No crack', 'No crack',\n",
       "       'No crack', 'No crack', 'No crack', 'No crack', 'No crack',\n",
       "       'No crack', 'No crack', 'No crack', 'No crack', 'No crack',\n",
       "       'No crack', 'No crack', 'Crack', 'No crack', 'No crack',\n",
       "       'No crack', 'No crack', 'No crack', 'No crack', 'No crack',\n",
       "       'Crack', 'No crack', 'No crack', 'No crack', 'No crack',\n",
       "       'No crack', 'No crack', 'No crack', 'No crack', 'No crack',\n",
       "       'No crack', 'No crack', 'No crack', 'No crack', 'No crack',\n",
       "       'No crack', 'No crack', 'No crack', 'No crack', 'No crack',\n",
       "       'No crack', 'No crack', 'No crack', 'No crack', 'No crack',\n",
       "       'No crack', 'No crack', 'No crack', 'No crack', 'No crack',\n",
       "       'No crack', 'No crack', 'No crack', 'No crack', 'No crack',\n",
       "       'No crack', 'No crack', 'No crack', 'No crack', 'No crack',\n",
       "       'No crack', 'No crack', 'No crack', 'No crack', 'No crack',\n",
       "       'No crack', 'No crack', 'No crack', 'No crack', 'No crack',\n",
       "       'Crack', 'No crack', 'No crack', 'No crack', 'No crack',\n",
       "       'No crack', 'No crack', 'No crack', 'No crack', 'No crack',\n",
       "       'No crack', 'No crack', 'No crack', 'No crack', 'Crack',\n",
       "       'No crack', 'No crack', 'No crack', 'No crack', 'No crack',\n",
       "       'No crack', 'No crack', 'No crack', 'No crack', 'No crack',\n",
       "       'No crack', 'No crack', 'No crack', 'No crack', 'No crack',\n",
       "       'No crack', 'No crack', 'No crack', 'No crack', 'Crack',\n",
       "       'No crack', 'No crack', 'No crack', 'No crack', 'No crack',\n",
       "       'No crack', 'No crack', 'No crack', 'No crack', 'No crack',\n",
       "       'No crack'], dtype=object)"
      ]
     },
     "execution_count": 39,
     "metadata": {},
     "output_type": "execute_result"
    }
   ],
   "source": [
    "y = df.iloc[:, 6].values\n",
    "y"
   ]
  },
  {
   "cell_type": "code",
   "execution_count": 42,
   "metadata": {},
   "outputs": [
    {
     "ename": "AttributeError",
     "evalue": "'numpy.ndarray' object has no attribute 'count'",
     "output_type": "error",
     "traceback": [
      "\u001b[1;31m---------------------------------------------------------------------------\u001b[0m",
      "\u001b[1;31mAttributeError\u001b[0m                            Traceback (most recent call last)",
      "\u001b[1;32m<ipython-input-42-530a8e0f9999>\u001b[0m in \u001b[0;36m<module>\u001b[1;34m\u001b[0m\n\u001b[0;32m      1\u001b[0m \u001b[0mjnocrack\u001b[0m \u001b[1;33m=\u001b[0m \u001b[1;34m\"No crack\"\u001b[0m\u001b[1;33m\u001b[0m\u001b[1;33m\u001b[0m\u001b[0m\n\u001b[1;32m----> 2\u001b[1;33m \u001b[0mnocrack\u001b[0m \u001b[1;33m=\u001b[0m \u001b[0my\u001b[0m\u001b[1;33m.\u001b[0m\u001b[0mcount\u001b[0m\u001b[1;33m(\u001b[0m\u001b[0mjnocrack\u001b[0m\u001b[1;33m)\u001b[0m\u001b[1;33m\u001b[0m\u001b[1;33m\u001b[0m\u001b[0m\n\u001b[0m",
      "\u001b[1;31mAttributeError\u001b[0m: 'numpy.ndarray' object has no attribute 'count'"
     ]
    }
   ],
   "source": [
    "jnocrack = \"No crack\"\n",
    "nocrack = y.count(jnocrack)"
   ]
  },
  {
   "cell_type": "code",
   "execution_count": 48,
   "metadata": {},
   "outputs": [
    {
     "data": {
      "text/plain": [
       "'Apple Mango Orange Mango Guava Guava Mango'"
      ]
     },
     "execution_count": 48,
     "metadata": {},
     "output_type": "execute_result"
    }
   ],
   "source": [
    "str = \"Apple Mango Orange Mango Guava Guava Mango\"\n",
    "str"
   ]
  },
  {
   "cell_type": "code",
   "execution_count": 70,
   "metadata": {},
   "outputs": [
    {
     "ename": "NameError",
     "evalue": "name 'xlocs' is not defined",
     "output_type": "error",
     "traceback": [
      "\u001b[1;31m---------------------------------------------------------------------------\u001b[0m",
      "\u001b[1;31mNameError\u001b[0m                                 Traceback (most recent call last)",
      "\u001b[1;32m<ipython-input-70-1e06c7266d91>\u001b[0m in \u001b[0;36m<module>\u001b[1;34m\u001b[0m\n\u001b[0;32m      3\u001b[0m \u001b[0mplt\u001b[0m\u001b[1;33m.\u001b[0m\u001b[0mbar\u001b[0m\u001b[1;33m(\u001b[0m\u001b[0mx\u001b[0m\u001b[1;33m,\u001b[0m \u001b[0my\u001b[0m\u001b[1;33m)\u001b[0m\u001b[1;33m\u001b[0m\u001b[1;33m\u001b[0m\u001b[0m\n\u001b[0;32m      4\u001b[0m \u001b[1;32mfor\u001b[0m \u001b[0mi\u001b[0m\u001b[1;33m,\u001b[0m \u001b[0mv\u001b[0m \u001b[1;32min\u001b[0m \u001b[0menumerate\u001b[0m\u001b[1;33m(\u001b[0m\u001b[0my\u001b[0m\u001b[1;33m)\u001b[0m\u001b[1;33m:\u001b[0m\u001b[1;33m\u001b[0m\u001b[1;33m\u001b[0m\u001b[0m\n\u001b[1;32m----> 5\u001b[1;33m     \u001b[0mplt\u001b[0m\u001b[1;33m.\u001b[0m\u001b[0mtext\u001b[0m\u001b[1;33m(\u001b[0m\u001b[0mxlocs\u001b[0m\u001b[1;33m[\u001b[0m\u001b[0mi\u001b[0m\u001b[1;33m]\u001b[0m \u001b[1;33m-\u001b[0m\u001b[1;36m0.25\u001b[0m\u001b[1;33m,\u001b[0m \u001b[0mv\u001b[0m\u001b[1;33m+\u001b[0m\u001b[1;36m0.01\u001b[0m\u001b[1;33m,\u001b[0m \u001b[0mstr\u001b[0m\u001b[1;33m(\u001b[0m\u001b[0mv\u001b[0m\u001b[1;33m)\u001b[0m\u001b[1;33m)\u001b[0m\u001b[1;33m\u001b[0m\u001b[1;33m\u001b[0m\u001b[0m\n\u001b[0m",
      "\u001b[1;31mNameError\u001b[0m: name 'xlocs' is not defined"
     ]
    },
    {
     "data": {
      "image/png": "[encoded data removed]",
      "text/plain": [
       "<Figure size 432x288 with 1 Axes>"
      ]
     },
     "metadata": {
      "needs_background": "light"
     },
     "output_type": "display_data"
    }
   ],
   "source": [
    "x = df.Condition\n",
    "y = df.Total\n",
    "plt.bar(x, y)\n",
    "for i, v in enumerate(y):\n",
    "    plt.text(xlocs[i] -0.25, v+0.01, str(v))"
   ]
  },
  {
   "cell_type": "code",
   "execution_count": 57,
   "metadata": {},
   "outputs": [
    {
     "data": {
      "text/plain": [
       "(2, 10)"
      ]
     },
     "execution_count": 57,
     "metadata": {},
     "output_type": "execute_result"
    }
   ],
   "source": [
    "df.shape"
   ]
  },
  {
   "cell_type": "code",
   "execution_count": null,
   "metadata": {},
   "outputs": [],
   "source": []
  }
 ],
 "metadata": {
  "kernelspec": {
   "display_name": "Python 3",
   "language": "python",
   "name": "python3"
  },
  "language_info": {
   "codemirror_mode": {
    "name": "ipython",
    "version": 3
   },
   "file_extension": ".py",
   "mimetype": "text/x-python",
   "name": "python",
   "nbconvert_exporter": "python",
   "pygments_lexer": "ipython3",
   "version": "3.7.4"
  }
 },
 "nbformat": 4,
 "nbformat_minor": 2
}
