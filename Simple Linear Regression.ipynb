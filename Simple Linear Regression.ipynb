{
 "cells": [
  {
   "cell_type": "markdown",
   "metadata": {},
   "source": [
    "# Library Importing"
   ]
  },
  {
   "cell_type": "code",
   "execution_count": 1,
   "metadata": {},
   "outputs": [],
   "source": [
    "#import numpy as np\n",
    "import pandas as pd\n",
    "import matplotlib.pyplot as plt\n",
    "import sklearn"
   ]
  },
  {
   "cell_type": "markdown",
   "metadata": {},
   "source": [
    "# Dataset Importing, Variable Declaration"
   ]
  },
  {
   "cell_type": "code",
   "execution_count": 9,
   "metadata": {
    "scrolled": false
   },
   "outputs": [
    {
     "data": {
      "text/plain": [
       "array([2.29, 2.46, 2.26, 2.31, 2.29, 2.25, 2.25, 2.29, 2.28, 2.16, 2.19,\n",
       "       2.21, 2.4 , 2.  , 2.16, 2.25, 2.21, 2.38, 2.39, 2.22, 2.21, 2.22,\n",
       "       2.3 , 2.34, 2.26, 2.22, 2.31, 2.25, 2.32, 2.36, 2.13, 2.1 , 2.35,\n",
       "       2.31, 2.21, 2.33, 2.35, 2.19, 2.1 , 2.25, 1.97, 2.22, 2.26, 2.34,\n",
       "       2.29, 2.26, 2.22, 2.24, 2.32, 2.52, 2.11, 2.34, 2.1 , 2.19, 2.29,\n",
       "       2.3 , 2.26, 2.38, 2.32, 2.22, 2.3 , 2.23, 2.22, 2.47, 2.19, 2.3 ,\n",
       "       2.22, 2.28, 2.23, 1.99, 2.45, 2.3 , 2.27, 2.2 , 2.35, 2.37, 2.43,\n",
       "       2.44, 2.  , 2.31, 2.36, 2.18, 2.49, 2.24, 2.25, 2.27, 2.27, 2.31,\n",
       "       2.17, 2.39, 2.42, 2.18, 2.28, 2.31, 2.24, 2.23, 2.34, 2.31, 2.43,\n",
       "       2.21, 2.29, 2.33, 2.32, 2.1 , 2.37, 2.26, 2.01, 2.37, 2.36, 2.34,\n",
       "       2.41, 2.28, 2.26, 2.38, 2.16, 2.2 , 2.18, 2.22, 2.27, 2.34, 2.24,\n",
       "       2.17, 2.27, 2.26, 2.19, 2.26, 2.21, 2.15, 2.38, 2.36, 2.27, 2.22,\n",
       "       2.35, 2.45, 2.31, 2.34, 2.26, 2.3 , 2.33, 2.15, 2.38, 2.08, 2.29,\n",
       "       2.28, 2.23, 2.06, 1.98, 2.25, 2.04, 2.12, 2.28, 2.26, 2.47, 2.3 ,\n",
       "       2.23, 2.27, 2.36, 2.21, 2.33, 2.04, 2.3 , 2.2 , 2.25, 2.46, 2.17,\n",
       "       2.19, 2.25, 2.23, 2.29, 2.25, 2.41, 2.08, 2.32, 2.2 , 2.23, 2.29,\n",
       "       2.35, 2.4 , 2.33, 2.2 , 2.32, 2.21, 2.42, 2.28, 2.07, 2.3 , 2.18,\n",
       "       2.32, 2.32, 2.28, 2.21, 2.09, 2.29, 2.28, 2.34, 2.43, 2.03, 2.24,\n",
       "       2.36, 2.29, 2.24, 2.27, 2.27, 2.34, 2.29, 2.28, 2.37, 2.22, 2.32,\n",
       "       2.24, 2.39, 2.28, 2.36, 2.37, 2.28, 2.37, 2.34, 1.98, 2.27, 2.2 ,\n",
       "       2.36, 2.19, 2.33, 2.35, 2.16, 2.27, 2.27, 2.2 , 2.33, 2.17, 2.27,\n",
       "       2.21, 2.21, 2.45, 2.37, 2.25, 2.26, 2.28, 2.35, 2.3 , 2.28, 2.11,\n",
       "       2.29, 2.45, 2.35, 2.3 , 2.13, 2.16, 2.21, 2.5 , 2.29, 2.16, 2.31,\n",
       "       2.21, 2.22, 2.22, 2.27, 2.21, 2.36, 2.24, 2.24, 2.18, 2.2 , 2.13,\n",
       "       2.26, 2.14, 2.49, 2.2 , 2.31, 2.4 , 2.35, 2.2 , 2.04, 2.43, 2.38,\n",
       "       2.35, 2.12, 2.31, 2.35, 2.41, 2.34, 2.38, 2.18, 2.34, 2.17, 2.31,\n",
       "       2.27, 2.16, 2.46, 2.26, 2.22, 2.21, 2.03, 2.28, 2.  , 2.14, 2.22,\n",
       "       2.21, 2.09, 2.36, 2.51, 2.37, 2.23, 2.11, 2.25, 2.18, 2.39, 2.29,\n",
       "       2.33, 1.99, 2.45, 2.2 , 2.34, 2.26, 2.22, 2.28, 2.32, 2.16, 2.2 ,\n",
       "       2.38, 2.2 , 2.12, 2.29, 2.36, 2.37, 2.35, 2.12, 2.24, 2.36, 2.33,\n",
       "       2.2 , 2.19, 2.24, 1.97, 2.24, 2.24, 2.32, 2.22, 2.25, 2.18, 2.4 ,\n",
       "       2.23, 2.34, 2.2 , 2.22, 2.3 , 2.3 , 2.34, 2.4 , 2.34, 2.21, 2.21,\n",
       "       2.35, 2.33, 2.13, 2.25, 2.27, 2.45, 2.45, 2.11, 2.22, 2.33, 2.29,\n",
       "       2.1 , 2.19, 2.14, 2.36, 2.25, 2.2 , 2.4 , 2.21, 2.29, 2.28, 2.08,\n",
       "       2.42, 2.46, 2.31, 2.24, 2.1 , 2.24, 2.24, 2.05, 2.33, 2.34, 2.18,\n",
       "       2.46, 2.1 , 2.37, 2.32, 2.11, 2.45, 2.32, 2.27, 2.23, 2.22, 2.12,\n",
       "       2.13, 2.26, 2.22, 2.15, 2.2 , 2.33, 2.33, 2.23, 2.17, 2.37, 2.21,\n",
       "       2.36, 2.24, 2.43, 2.2 , 2.17, 2.24, 2.2 , 2.19, 2.33, 2.2 , 2.34,\n",
       "       2.33, 2.35, 2.26, 2.19, 2.19, 2.08, 2.23, 2.42, 2.  , 2.18, 2.3 ,\n",
       "       2.22, 2.25, 2.25, 2.25, 2.4 , 2.22, 2.28, 2.28, 2.29, 2.2 , 2.12,\n",
       "       2.24, 2.25, 2.46, 2.26, 2.25, 2.11, 2.52, 2.39, 2.24, 2.18, 2.2 ,\n",
       "       2.33, 2.1 , 2.14, 2.33, 2.29, 2.04, 2.41, 2.3 , 2.22, 2.17, 2.44,\n",
       "       2.29, 2.17, 2.19, 2.29, 2.41, 2.19, 2.25, 1.99, 2.27, 2.29, 2.27,\n",
       "       2.35, 2.33, 2.4 , 2.24, 2.05, 2.38, 2.04, 2.31, 2.36, 2.12, 2.4 ,\n",
       "       2.33, 2.29, 2.01, 2.37, 2.22, 2.34, 2.28, 2.24, 2.4 , 2.26, 2.25,\n",
       "       2.22, 2.19, 2.31, 2.05, 2.26, 2.35, 2.2 , 2.28, 2.25, 2.27, 2.33,\n",
       "       2.25, 2.26, 2.29, 2.16, 2.24, 2.43, 2.21, 2.29, 2.23, 2.29, 2.2 ,\n",
       "       2.26, 2.29, 2.33, 2.1 , 2.16, 2.29, 2.26, 2.25, 2.26, 2.27, 2.39,\n",
       "       2.45, 2.27, 1.95, 2.37, 2.19, 2.12, 2.  , 2.36, 2.3 , 2.16, 2.24,\n",
       "       2.41, 2.28, 2.2 , 2.32, 2.23, 2.19, 2.2 , 2.25, 2.31, 2.24, 2.32,\n",
       "       2.24, 2.25, 2.41, 2.29, 2.24, 2.12, 2.34, 2.3 , 2.2 , 2.05, 2.32,\n",
       "       2.11, 2.06, 2.17, 2.28, 2.26, 1.97, 2.38, 2.12, 2.23, 2.2 , 2.21,\n",
       "       2.46, 2.44, 2.21, 2.02, 2.25, 2.26, 2.37, 2.31, 2.26, 2.26, 2.34,\n",
       "       2.36, 2.39, 2.24, 2.26, 1.95, 2.31, 2.23, 2.16, 2.21, 2.29, 2.16,\n",
       "       2.27, 2.08, 2.16, 2.31, 2.01, 2.28, 2.26, 2.27, 2.36, 2.17, 2.23,\n",
       "       2.22, 2.44, 2.22, 2.22, 2.35, 2.42, 2.29, 2.22, 2.2 , 2.32, 2.23,\n",
       "       2.42, 2.19, 2.17, 2.03, 2.26, 2.17, 2.37, 2.05, 1.97, 2.37, 2.26,\n",
       "       2.34, 2.42, 2.26, 2.28, 2.18, 2.09, 2.33, 2.23, 2.24, 2.3 , 2.06,\n",
       "       2.28, 2.43, 2.27, 2.39, 2.22, 2.26, 2.29, 2.31, 2.28, 2.28, 2.12,\n",
       "       2.22, 2.31, 2.47, 2.39, 2.19, 2.14, 2.27, 2.17, 2.32, 2.35, 2.26,\n",
       "       2.26, 2.34, 2.31, 2.31, 1.96, 2.29, 2.22, 2.47, 2.37, 2.25, 2.22,\n",
       "       2.21, 2.2 , 2.36, 2.33, 2.4 , 2.39, 1.96, 2.35, 2.24, 2.24, 2.26,\n",
       "       2.24, 2.24, 2.03, 2.19, 2.27, 2.36, 2.38, 2.45, 2.19, 2.32, 2.03,\n",
       "       2.45, 2.41, 2.3 , 2.17, 2.14, 2.32, 2.22, 2.2 , 2.35, 2.36, 2.13,\n",
       "       2.22, 2.17, 2.29, 2.44, 2.39, 2.36, 2.46, 2.12, 2.3 , 2.22, 2.26,\n",
       "       2.43, 2.04, 2.31, 2.19, 2.32, 2.07, 2.3 , 2.33, 2.31, 2.29, 2.25,\n",
       "       2.34, 2.28, 2.29, 2.46, 2.31, 2.18, 2.21, 2.26, 2.31, 2.21, 2.26,\n",
       "       2.34, 2.22, 2.37, 2.22, 2.18, 2.45, 2.32, 2.24, 2.23, 2.21, 2.41,\n",
       "       2.47, 2.44, 2.49, 2.28, 2.27, 2.17, 2.26, 2.25, 2.42, 2.24, 2.23,\n",
       "       2.36, 2.05, 2.26, 2.29, 2.1 , 2.29, 2.21, 2.28, 2.09, 2.2 , 2.26,\n",
       "       2.32, 2.34, 2.24, 2.33, 2.23, 2.21, 2.4 , 2.16, 2.14, 2.3 , 2.27,\n",
       "       2.21, 2.3 , 2.01, 2.29, 2.23, 2.36, 2.21, 2.28, 2.27, 2.4 , 2.42,\n",
       "       2.31, 2.31, 2.13, 2.35, 2.11, 2.25, 2.29, 2.04, 2.38, 2.42, 2.18,\n",
       "       2.27, 2.38, 2.06, 2.33, 2.03, 2.23, 2.28, 2.17, 2.19, 2.18, 2.01,\n",
       "       2.19, 2.29, 2.36, 2.26, 2.15, 2.17, 2.17, 2.27, 1.99, 2.13, 2.52,\n",
       "       2.22, 2.32, 2.23, 2.29, 2.28, 2.28, 2.35, 2.26, 2.17, 2.21, 2.27,\n",
       "       2.28, 2.23, 2.25, 2.27, 2.29, 2.29, 2.23, 2.35, 2.11, 2.31, 2.38,\n",
       "       2.38, 2.28, 2.3 , 2.28, 2.39, 2.34, 2.15, 2.3 , 2.47, 2.22, 2.23,\n",
       "       2.2 , 2.14, 2.36, 2.15, 2.2 , 2.28, 2.14, 2.2 , 2.14, 2.16, 2.37,\n",
       "       2.17, 2.22, 2.3 , 2.26, 2.22, 2.23, 2.25, 2.31, 2.29, 2.33, 2.26,\n",
       "       2.3 , 2.47, 2.36, 2.29, 2.21, 2.3 , 2.  , 2.25, 2.25, 2.22, 2.31,\n",
       "       2.04, 2.03, 2.12, 2.28, 2.07, 2.34, 2.03, 2.28, 1.98, 2.26, 2.35,\n",
       "       2.1 , 2.19, 2.36, 2.21, 2.21, 2.2 , 2.26, 2.24, 2.26, 2.17, 2.04,\n",
       "       2.15, 2.35, 2.25, 2.37, 2.3 , 2.46, 2.38, 2.25, 2.22, 2.25, 2.29,\n",
       "       2.22, 2.2 , 2.31, 2.01, 2.33, 2.37, 2.09, 2.28, 2.26, 2.18, 2.25,\n",
       "       2.23, 2.44, 2.23, 2.21, 2.33, 2.31, 2.46, 2.29, 2.27, 2.49, 2.32,\n",
       "       2.12, 2.27, 2.26, 2.16, 2.28, 2.11, 2.36, 2.26, 2.16, 2.32, 2.25,\n",
       "       2.32, 2.1 , 2.16, 2.28, 2.1 , 2.27, 2.46])"
      ]
     },
     "execution_count": 9,
     "metadata": {},
     "output_type": "execute_result"
    }
   ],
   "source": [
    "df = pd.read_excel ('dataset.xlsx')\n",
    "X = df.iloc[:, -4 :-3].values\n",
    "y = df.iloc[:, 5].values\n",
    "y"
   ]
  },
  {
   "cell_type": "code",
   "execution_count": 49,
   "metadata": {
    "scrolled": false
   },
   "outputs": [
    {
     "data": {
      "text/html": [
       "<div>\n",
       "<style scoped>\n",
       "    .dataframe tbody tr th:only-of-type {\n",
       "        vertical-align: middle;\n",
       "    }\n",
       "\n",
       "    .dataframe tbody tr th {\n",
       "        vertical-align: top;\n",
       "    }\n",
       "\n",
       "    .dataframe thead th {\n",
       "        text-align: right;\n",
       "    }\n",
       "</style>\n",
       "<table border=\"1\" class=\"dataframe\">\n",
       "  <thead>\n",
       "    <tr style=\"text-align: right;\">\n",
       "      <th></th>\n",
       "      <th>elongation</th>\n",
       "      <th>bursting</th>\n",
       "      <th>Xy</th>\n",
       "      <th>X^2</th>\n",
       "      <th>y^2</th>\n",
       "    </tr>\n",
       "  </thead>\n",
       "  <tbody>\n",
       "    <tr>\n",
       "      <td>0</td>\n",
       "      <td>427.0</td>\n",
       "      <td>2.29</td>\n",
       "      <td>977.83</td>\n",
       "      <td>182329.0</td>\n",
       "      <td>5.2441</td>\n",
       "    </tr>\n",
       "    <tr>\n",
       "      <td>1</td>\n",
       "      <td>483.0</td>\n",
       "      <td>2.46</td>\n",
       "      <td>1188.18</td>\n",
       "      <td>233289.0</td>\n",
       "      <td>6.0516</td>\n",
       "    </tr>\n",
       "    <tr>\n",
       "      <td>2</td>\n",
       "      <td>406.0</td>\n",
       "      <td>2.26</td>\n",
       "      <td>917.56</td>\n",
       "      <td>164836.0</td>\n",
       "      <td>5.1076</td>\n",
       "    </tr>\n",
       "    <tr>\n",
       "      <td>3</td>\n",
       "      <td>408.0</td>\n",
       "      <td>2.31</td>\n",
       "      <td>942.48</td>\n",
       "      <td>166464.0</td>\n",
       "      <td>5.3361</td>\n",
       "    </tr>\n",
       "    <tr>\n",
       "      <td>4</td>\n",
       "      <td>384.0</td>\n",
       "      <td>2.29</td>\n",
       "      <td>879.36</td>\n",
       "      <td>147456.0</td>\n",
       "      <td>5.2441</td>\n",
       "    </tr>\n",
       "    <tr>\n",
       "      <td>...</td>\n",
       "      <td>...</td>\n",
       "      <td>...</td>\n",
       "      <td>...</td>\n",
       "      <td>...</td>\n",
       "      <td>...</td>\n",
       "    </tr>\n",
       "    <tr>\n",
       "      <td>960</td>\n",
       "      <td>437.0</td>\n",
       "      <td>2.28</td>\n",
       "      <td>996.36</td>\n",
       "      <td>190969.0</td>\n",
       "      <td>5.1984</td>\n",
       "    </tr>\n",
       "    <tr>\n",
       "      <td>961</td>\n",
       "      <td>338.0</td>\n",
       "      <td>2.10</td>\n",
       "      <td>709.80</td>\n",
       "      <td>114244.0</td>\n",
       "      <td>4.4100</td>\n",
       "    </tr>\n",
       "    <tr>\n",
       "      <td>962</td>\n",
       "      <td>434.0</td>\n",
       "      <td>2.27</td>\n",
       "      <td>985.18</td>\n",
       "      <td>188356.0</td>\n",
       "      <td>5.1529</td>\n",
       "    </tr>\n",
       "    <tr>\n",
       "      <td>963</td>\n",
       "      <td>483.0</td>\n",
       "      <td>2.46</td>\n",
       "      <td>1188.18</td>\n",
       "      <td>233289.0</td>\n",
       "      <td>6.0516</td>\n",
       "    </tr>\n",
       "    <tr>\n",
       "      <td>Total</td>\n",
       "      <td>385058.0</td>\n",
       "      <td>2177.43</td>\n",
       "      <td>873672.70</td>\n",
       "      <td>155589710.0</td>\n",
       "      <td>4928.9065</td>\n",
       "    </tr>\n",
       "  </tbody>\n",
       "</table>\n",
       "<p>965 rows × 5 columns</p>\n",
       "</div>"
      ],
      "text/plain": [
       "       elongation  bursting         Xy          X^2        y^2\n",
       "0           427.0      2.29     977.83     182329.0     5.2441\n",
       "1           483.0      2.46    1188.18     233289.0     6.0516\n",
       "2           406.0      2.26     917.56     164836.0     5.1076\n",
       "3           408.0      2.31     942.48     166464.0     5.3361\n",
       "4           384.0      2.29     879.36     147456.0     5.2441\n",
       "...           ...       ...        ...          ...        ...\n",
       "960         437.0      2.28     996.36     190969.0     5.1984\n",
       "961         338.0      2.10     709.80     114244.0     4.4100\n",
       "962         434.0      2.27     985.18     188356.0     5.1529\n",
       "963         483.0      2.46    1188.18     233289.0     6.0516\n",
       "Total    385058.0   2177.43  873672.70  155589710.0  4928.9065\n",
       "\n",
       "[965 rows x 5 columns]"
      ]
     },
     "execution_count": 49,
     "metadata": {},
     "output_type": "execute_result"
    }
   ],
   "source": [
    "df = df.drop(df.loc[:,'Unnamed: 0':'tensile'].head(0).columns, axis=1)\n",
    "df = df.drop(columns=['sg', 'crack'])\n",
    "df['Xy'] = df.elongation * df.bursting\n",
    "df['X^2'] = df.elongation * df.elongation\n",
    "df['y^2'] = df.bursting * df.bursting\n",
    "df.loc['Total'] = df.sum(numeric_only=True, axis=0)\n",
    "df"
   ]
  },
  {
   "cell_type": "code",
   "execution_count": 52,
   "metadata": {},
   "outputs": [
    {
     "data": {
      "text/plain": [
       "1.3794601891074139"
      ]
     },
     "execution_count": 52,
     "metadata": {},
     "output_type": "execute_result"
    }
   ],
   "source": [
    "#calculate intercept\n",
    "((2177.43*155589710.0)-(385058.0*873672.70))/((964*155589710.0)-(385058.0*385058.0))"
   ]
  },
  {
   "cell_type": "code",
   "execution_count": 53,
   "metadata": {},
   "outputs": [
    {
     "data": {
      "text/plain": [
       "0.0022013057193993194"
      ]
     },
     "execution_count": 53,
     "metadata": {},
     "output_type": "execute_result"
    }
   ],
   "source": [
    "#calculate coeff\n",
    "((964*873672.70)-(385058.0*2177.43))/((964*155589710.0)-(385058.0*385058.0))"
   ]
  },
  {
   "cell_type": "code",
   "execution_count": 54,
   "metadata": {},
   "outputs": [
    {
     "data": {
      "text/plain": [
       "0.8114359229805049"
      ]
     },
     "execution_count": 54,
     "metadata": {},
     "output_type": "execute_result"
    }
   ],
   "source": [
    "#calculate R2\n",
    "a = ((964*873672.70)-(385058.0*2177.43))\n",
    "b = ((964*155589710.0)-(385058.0*385058.0))\n",
    "c = ((964*4928.9065)-(2177.43*2177.43))\n",
    "(a*a)/(b*c)"
   ]
  },
  {
   "cell_type": "markdown",
   "metadata": {},
   "source": [
    "# Scatter Data Plotting"
   ]
  },
  {
   "cell_type": "code",
   "execution_count": 5,
   "metadata": {
    "scrolled": false
   },
   "outputs": [
    {
     "data": {
      "image/png": "[encoded data removed]",
      "text/plain": [
       "<Figure size 1080x576 with 1 Axes>"
      ]
     },
     "metadata": {
      "needs_background": "light"
     },
     "output_type": "display_data"
    }
   ],
   "source": [
    "df1 = pd.DataFrame(df)\n",
    "plt.figure(figsize=(15,8))\n",
    "plt.scatter(df1.elongation, df1.bursting)\n",
    "plt.xlabel(\"Elongation at Break\")\n",
    "plt.ylabel(\"Bursting Pressure\")\n",
    "plt.title(\"Elongation to Bursting\")\n",
    "plt.show()"
   ]
  },
  {
   "cell_type": "markdown",
   "metadata": {},
   "source": [
    "# Train and Test Data Split"
   ]
  },
  {
   "cell_type": "code",
   "execution_count": 10,
   "metadata": {},
   "outputs": [],
   "source": [
    "from sklearn.model_selection import train_test_split\n",
    "X_train, X_test, y_train, y_test = train_test_split(X, y, test_size = 0.3, random_state = 42)"
   ]
  },
  {
   "cell_type": "markdown",
   "metadata": {},
   "source": [
    "# Model Development (Using Linear Regression)"
   ]
  },
  {
   "cell_type": "code",
   "execution_count": 11,
   "metadata": {},
   "outputs": [
    {
     "data": {
      "text/plain": [
       "LinearRegression(copy_X=True, fit_intercept=True, n_jobs=None, normalize=False)"
      ]
     },
     "execution_count": 11,
     "metadata": {},
     "output_type": "execute_result"
    }
   ],
   "source": [
    "from sklearn.linear_model import LinearRegression\n",
    "regressor = LinearRegression()\n",
    "regressor.fit(X_train, y_train)"
   ]
  },
  {
   "cell_type": "markdown",
   "metadata": {},
   "source": [
    "# Model Training"
   ]
  },
  {
   "cell_type": "code",
   "execution_count": 12,
   "metadata": {
    "scrolled": false
   },
   "outputs": [
    {
     "data": {
      "image/png": "[encoded data removed]",
      "text/plain": [
       "<Figure size 1080x576 with 1 Axes>"
      ]
     },
     "metadata": {
      "needs_background": "light"
     },
     "output_type": "display_data"
    }
   ],
   "source": [
    "plt.figure(figsize=(15,8))\n",
    "plt.scatter(X_train, y_train)\n",
    "plt.plot(X_train, regressor.predict(X_train), color = 'red')\n",
    "plt.title('Elongation to Bursting (Train Set)')\n",
    "plt.xlabel(\"Elongation at Break\")\n",
    "plt.ylabel(\"Bursting Pressure\")\n",
    "plt.show()"
   ]
  },
  {
   "cell_type": "markdown",
   "metadata": {},
   "source": [
    "# Model Testing"
   ]
  },
  {
   "cell_type": "code",
   "execution_count": 13,
   "metadata": {
    "scrolled": false
   },
   "outputs": [
    {
     "data": {
      "image/png": "[encoded data removed]",
      "text/plain": [
       "<Figure size 1080x576 with 1 Axes>"
      ]
     },
     "metadata": {
      "needs_background": "light"
     },
     "output_type": "display_data"
    }
   ],
   "source": [
    "plt.figure(figsize=(15,8))\n",
    "plt.scatter(X_test, y_test)\n",
    "plt.plot(X_train, regressor.predict(X_train), color = 'red')\n",
    "plt.title('Elongation (Test Set)')\n",
    "plt.xlabel(\"Elongation at Break\")\n",
    "plt.ylabel(\"Bursting Pressure\")\n",
    "plt.show()"
   ]
  },
  {
   "cell_type": "markdown",
   "metadata": {},
   "source": [
    "# Model Testing Result"
   ]
  },
  {
   "cell_type": "code",
   "execution_count": 15,
   "metadata": {},
   "outputs": [],
   "source": [
    "y_pred = regressor.predict(X_test)\n",
    "#print(y_pred)"
   ]
  },
  {
   "cell_type": "markdown",
   "metadata": {},
   "source": [
    "# Counting R2 Score"
   ]
  },
  {
   "cell_type": "code",
   "execution_count": 18,
   "metadata": {
    "scrolled": true
   },
   "outputs": [
    {
     "data": {
      "text/plain": [
       "0.8181052943940827"
      ]
     },
     "execution_count": 18,
     "metadata": {},
     "output_type": "execute_result"
    }
   ],
   "source": [
    "from sklearn.metrics import r2_score\n",
    "r2_score(y_test, y_pred)"
   ]
  },
  {
   "cell_type": "code",
   "execution_count": 19,
   "metadata": {},
   "outputs": [
    {
     "name": "stdout",
     "output_type": "stream",
     "text": [
      "[0.0021793]\n"
     ]
    }
   ],
   "source": [
    "print(regressor.coef_)"
   ]
  },
  {
   "cell_type": "code",
   "execution_count": 20,
   "metadata": {
    "scrolled": true
   },
   "outputs": [
    {
     "name": "stdout",
     "output_type": "stream",
     "text": [
      "1.3873789972592838\n"
     ]
    }
   ],
   "source": [
    "print(regressor.intercept_)"
   ]
  },
  {
   "cell_type": "code",
   "execution_count": 21,
   "metadata": {},
   "outputs": [
    {
     "data": {
      "text/plain": [
       "array([2.08475422])"
      ]
     },
     "execution_count": 21,
     "metadata": {},
     "output_type": "execute_result"
    }
   ],
   "source": [
    "regressor.predict([[320]])"
   ]
  },
  {
   "cell_type": "code",
   "execution_count": 22,
   "metadata": {},
   "outputs": [
    {
     "data": {
      "text/plain": [
       "2.084754997259284"
      ]
     },
     "execution_count": 22,
     "metadata": {},
     "output_type": "execute_result"
    }
   ],
   "source": [
    "0.0021793*320+1.3873789972592838"
   ]
  },
  {
   "cell_type": "code",
   "execution_count": null,
   "metadata": {},
   "outputs": [],
   "source": []
  }
 ],
 "metadata": {
  "kernelspec": {
   "display_name": "Python 3",
   "language": "python",
   "name": "python3"
  },
  "language_info": {
   "codemirror_mode": {
    "name": "ipython",
    "version": 3
   },
   "file_extension": ".py",
   "mimetype": "text/x-python",
   "name": "python",
   "nbconvert_exporter": "python",
   "pygments_lexer": "ipython3",
   "version": "3.7.4"
  }
 },
 "nbformat": 4,
 "nbformat_minor": 2
}
